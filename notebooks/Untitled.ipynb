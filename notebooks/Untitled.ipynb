{
 "cells": [
  {
   "cell_type": "code",
   "execution_count": 15,
   "id": "68b273a3",
   "metadata": {},
   "outputs": [
    {
     "name": "stdout",
     "output_type": "stream",
     "text": [
      "Files imported successfully\n"
     ]
    }
   ],
   "source": [
    "import os\n",
    "import cv2\n",
    "import matplotlib.pyplot as plt\n",
    "import matplotlib.image as mpimg\n",
    "import numpy as np\n",
    "import cv2 as cv\n",
    "import matplotlib.pyplot as plt\n",
    "from pathlib import Path\n",
    "from sklearn.model_selection import GridSearchCV, train_test_split\n",
    "from skimage.io import imread\n",
    "print(\"Files imported successfully\")\n",
    "import pandas as pd\n",
    "import warnings\n",
    "warnings.filterwarnings('ignore')\n",
    "pd.set_option('display.max_columns', 30*30 + 1)"
   ]
  },
  {
   "cell_type": "code",
   "execution_count": 16,
   "id": "82ef5c73",
   "metadata": {},
   "outputs": [],
   "source": [
    "def load_image_files(container_path, dimension=(64, 64)):\n",
    "    image_dir = Path(container_path)\n",
    "    folders = [directory for directory in image_dir.iterdir() if directory.is_dir()]\n",
    "    categories = [fo.name for fo in folders]\n",
    "\n",
    "    descr = \"A image classification dataset\"\n",
    "    images = []\n",
    "    flat_data = []\n",
    "    target = []\n",
    "    count = 0\n",
    "    train_img = []\n",
    "    files = []\n",
    "    for i, direc in enumerate(folders):\n",
    "        print(direc)\n",
    "        for file in direc.iterdir():\n",
    "            count += 1\n",
    "            img = imread(file)\n",
    "#             img = cv.cvtColor(img, cv.COLOR_BGR2GRAY)\n",
    "            img_pred = cv.resize(img, (50, 50), interpolation=cv.INTER_AREA)\n",
    "#             img_pred = image.img_to_array(img_pred)\n",
    "            img_pred = img_pred / 255\n",
    "            train_img.append(img_pred)\n",
    "            files.append(file)\n",
    "            \n",
    "        print(count)\n",
    "\n",
    "    X = np.array(train_img)\n",
    "\n",
    "    return X, files\n",
    "\n",
    "X = []"
   ]
  },
  {
   "cell_type": "code",
   "execution_count": 17,
   "id": "9071c4ef",
   "metadata": {},
   "outputs": [
    {
     "name": "stdout",
     "output_type": "stream",
     "text": [
      "../data/unfertile-land\n",
      "51\n",
      "../data/fertile-land\n",
      "101\n"
     ]
    }
   ],
   "source": [
    "X, files = load_image_files('./../data/')"
   ]
  },
  {
   "cell_type": "code",
   "execution_count": 19,
   "id": "701acba1",
   "metadata": {},
   "outputs": [
    {
     "data": {
      "text/plain": [
       "101"
      ]
     },
     "execution_count": 19,
     "metadata": {},
     "output_type": "execute_result"
    }
   ],
   "source": [
    "len(files)"
   ]
  },
  {
   "cell_type": "code",
   "execution_count": 4,
   "id": "80a980ed",
   "metadata": {},
   "outputs": [],
   "source": [
    "y0 = np.zeros(51)\n",
    "#2000 is the number of Cats in X\n",
    "y1 = np.ones(50)\n",
    "#2134 is the number of Dogs in X\n",
    "y = []\n",
    "y = np.concatenate((y0,y1), axis=0)"
   ]
  },
  {
   "cell_type": "code",
   "execution_count": 5,
   "id": "86d04b1b",
   "metadata": {},
   "outputs": [
    {
     "name": "stdout",
     "output_type": "stream",
     "text": [
      "[0. 0. 0. 0. 0. 0. 0. 0. 0. 0. 0. 0. 0. 0. 0. 0. 0. 0. 0. 0. 0. 0. 0. 0.\n",
      " 0. 0. 0. 0. 0. 0. 0. 0. 0. 0. 0. 0. 0. 0. 0. 0. 0. 0. 0. 0. 0. 0. 0. 0.\n",
      " 0. 0. 0.]\n",
      "[1. 1. 1. 1. 1. 1. 1. 1. 1. 1. 1. 1. 1. 1. 1. 1. 1. 1. 1. 1. 1. 1. 1. 1.\n",
      " 1. 1. 1. 1. 1. 1. 1. 1. 1. 1. 1. 1. 1. 1. 1. 1. 1. 1. 1. 1. 1. 1. 1. 1.\n",
      " 1. 1.]\n",
      "[0. 0. 0. 0. 0. 0. 0. 0. 0. 0. 0. 0. 0. 0. 0. 0. 0. 0. 0. 0. 0. 0. 0. 0.\n",
      " 0. 0. 0. 0. 0. 0. 0. 0. 0. 0. 0. 0. 0. 0. 0. 0. 0. 0. 0. 0. 0. 0. 0. 0.\n",
      " 0. 0. 0. 1. 1. 1. 1. 1. 1. 1. 1. 1. 1. 1. 1. 1. 1. 1. 1. 1. 1. 1. 1. 1.\n",
      " 1. 1. 1. 1. 1. 1. 1. 1. 1. 1. 1. 1. 1. 1. 1. 1. 1. 1. 1. 1. 1. 1. 1. 1.\n",
      " 1. 1. 1. 1. 1.]\n"
     ]
    }
   ],
   "source": [
    "print(y0)\n",
    "print(y1)\n",
    "print(y)"
   ]
  },
  {
   "cell_type": "code",
   "execution_count": 6,
   "id": "d91fbe8d",
   "metadata": {},
   "outputs": [
    {
     "data": {
      "text/plain": [
       "(101, 50, 50, 3)"
      ]
     },
     "execution_count": 6,
     "metadata": {},
     "output_type": "execute_result"
    }
   ],
   "source": [
    "X.shape"
   ]
  },
  {
   "cell_type": "code",
   "execution_count": 22,
   "id": "6ef60be5",
   "metadata": {},
   "outputs": [
    {
     "name": "stdout",
     "output_type": "stream",
     "text": [
      "X_train: (80, 50, 50, 3)\n",
      "X_test: (11, 50, 50, 3)\n",
      "X_val: (10, 50, 50, 3)\n",
      "y_train: (80,)\n",
      "y_test: (11,)\n",
      "y_val: (10,)\n"
     ]
    }
   ],
   "source": [
    "X_train, X_test, y_train, y_test = train_test_split(X, y, random_state=4, test_size=0.2)\n",
    "files_train, files_test, y_train, y_test_ = train_test_split(files, y, random_state=4, test_size=0.2)\n",
    "X_val, X_test, y_val, y_test = train_test_split(X_test, y_test_, random_state=4, test_size=0.5)\n",
    "files_val, files_test, y_val, y_test = train_test_split(files_test, y_test_, random_state=4, test_size=0.5)\n",
    "print(\"X_train: \"+str(X_train.shape))\n",
    "print(\"X_test: \"+str(X_test.shape))\n",
    "print(\"X_val: \"+str(X_val.shape))\n",
    "print(\"y_train: \"+str(y_train.shape))\n",
    "print(\"y_test: \"+str(y_test.shape))\n",
    "print(\"y_val: \"+str(y_val.shape))"
   ]
  },
  {
   "cell_type": "code",
   "execution_count": 23,
   "id": "d8322d95",
   "metadata": {},
   "outputs": [
    {
     "name": "stdout",
     "output_type": "stream",
     "text": [
      "X_train: (80, 7500)\n",
      "X_test: (11, 7500)\n",
      "X_val: (10, 7500)\n",
      "y_train: (80,)\n",
      "y_test: (11,)\n",
      "y_val: (10,)\n"
     ]
    }
   ],
   "source": [
    "from builtins import range\n",
    "from builtins import object\n",
    "\n",
    "num_training = X_train.shape[0]\n",
    "mask = list(range(num_training))\n",
    "X_train = X_train[mask]\n",
    "y_train = y_train[mask]\n",
    "\n",
    "num_test = X_test.shape[0]\n",
    "mask = list(range(num_test))\n",
    "X_test = X_test[mask]\n",
    "y_test = y_test[mask]\n",
    "\n",
    "num_val = X_val.shape[0]\n",
    "mask = list(range(num_val))\n",
    "X_val = X_val[mask]\n",
    "y_val = y_val[mask]\n",
    "\n",
    "# Reshape the image data into rows\n",
    "X_train = np.reshape(X_train, (X_train.shape[0], -1))\n",
    "X_test = np.reshape(X_test, (X_test.shape[0], -1))\n",
    "X_val = np.reshape(X_val, (X_val.shape[0], -1))\n",
    "\n",
    "print(\"X_train: \"+str(X_train.shape))\n",
    "print(\"X_test: \"+str(X_test.shape))\n",
    "print(\"X_val: \"+str(X_val.shape))\n",
    "print(\"y_train: \"+str(y_train.shape))\n",
    "print(\"y_test: \"+str(y_test.shape))\n",
    "print(\"y_val: \"+str(y_val.shape))"
   ]
  },
  {
   "cell_type": "code",
   "execution_count": 24,
   "id": "6f5db96d",
   "metadata": {},
   "outputs": [],
   "source": [
    "class KNearestNeighbor(object):\n",
    "    \"\"\" a kNN classifier with L2 distance \"\"\"\n",
    "\n",
    "    def __init__(self):\n",
    "        pass\n",
    "\n",
    "    def predict_label(self, dists, k=1):\n",
    "        num_test = dists.shape[0]\n",
    "        y_pred = np.zeros(num_test)\n",
    "        for i in range(num_test):\n",
    "            closest_y = []\n",
    "            closest_y = self.y_train[np.argsort(dists[i])][0:k]\n",
    "            y_pred[i] = np.bincount(closest_y).argmax()\n",
    "        return y_pred\n",
    "\n",
    "    def train(self, X, y):\n",
    "        \"\"\"\n",
    "        Train the classifier. For k-nearest neighbors this is just\n",
    "        memorizing the training data.\n",
    "\n",
    "        Inputs:\n",
    "        - X: A numpy array of shape (num_train, D) containing the training data\n",
    "          consisting of num_train samples each of dimension D.\n",
    "        - y: A numpy array of shape (N,) containing the training labels, where\n",
    "             y[i] is the label for X[i].\n",
    "        \"\"\"\n",
    "        self.X_train = X\n",
    "        self.y_train = y\n",
    "\n",
    "    def predict(self, X, k=1):\n",
    "        \"\"\"\n",
    "        Predict labels for test data using this classifier.\n",
    "\n",
    "        Inputs:\n",
    "        - X: A numpy array of shape (num_test, D) containing test data consisting\n",
    "             of num_test samples each of dimension D.\n",
    "        - k: The number of nearest neighbors that vote for the predicted labels.\n",
    "        - num_loops: Determines which implementation to use to compute distances\n",
    "          between training points and testing points.\n",
    "\n",
    "        Returns:\n",
    "        - y: A numpy array of shape (num_test,) containing predicted labels for the\n",
    "          test data, where y[i] is the predicted label for the test point X[i].\n",
    "        \"\"\"\n",
    "        dists = self.compute_distances_no_loops(X)\n",
    "\n",
    "        return self.predict_labels(dists, k=k)\n",
    "\n",
    "    def compute_distances_no_loops(self, X):\n",
    "        \"\"\"\n",
    "        Compute the distance between each test point in X and each training point\n",
    "        in self.X_train using no explicit loops.\n",
    "\n",
    "        Input / Output: Same as compute_distances_two_loops\n",
    "        \"\"\"\n",
    "        num_test = X.shape[0]\n",
    "        num_train = self.X_train.shape[0]\n",
    "        dists = np.zeros((num_test, num_train))\n",
    "        #########################################################################\n",
    "        dists = np.sqrt((X ** 2).sum(axis=1, keepdims=1) + (self.X_train ** 2).sum(axis=1) - 2 * X.dot(self.X_train.T))\n",
    "\n",
    "        return dists\n",
    "\n",
    "    def predict_labels(self, dists, k=1):\n",
    "        \"\"\"\n",
    "        Given a matrix of distances between test points and training points,\n",
    "        predict a label for each test point.\n",
    "\n",
    "        Inputs:\n",
    "        - dists: A numpy array of shape (num_test, num_train) where dists[i, j]\n",
    "          gives the distance betwen the ith test point and the jth training point.\n",
    "\n",
    "        Returns:\n",
    "        - y: A numpy array of shape (num_test,) containing predicted labels for the\n",
    "          test data, where y[i] is the predicted label for the test point X[i].\n",
    "        \"\"\"\n",
    "        num_test = dists.shape[0]\n",
    "        y_pred = np.zeros(num_test)\n",
    "        for i in range(num_test):\n",
    "            # A list of length k storing the labels of the k nearest neighbors to\n",
    "            # the ith test point.\n",
    "            closest_y = []\n",
    "            closest_y = self.y_train[np.argsort(dists[i])][0:k]\n",
    "            closest_y = closest_y.astype(int)\n",
    "            y_pred[i] = np.bincount(closest_y).argmax()\n",
    "        return y_pred\n"
   ]
  },
  {
   "cell_type": "code",
   "execution_count": 25,
   "id": "9bb89719",
   "metadata": {},
   "outputs": [
    {
     "name": "stdout",
     "output_type": "stream",
     "text": [
      "Val Accuracy for k=1\n",
      "Got 8 / 10 correct => accuracy: 0.800000\n"
     ]
    }
   ],
   "source": [
    "print(\"Val Accuracy for k=1\")\n",
    "classifier = KNearestNeighbor()\n",
    "classifier.train(X_train, y_train)\n",
    "dists = classifier.compute_distances_no_loops(X_val)\n",
    "y_val_pred = classifier.predict_labels(dists, k=1)\n",
    "num_correct = np.sum(y_val_pred == y_val)\n",
    "accuracy = float(num_correct) / num_val\n",
    "print('Got %d / %d correct => accuracy: %f' % (num_correct, num_val, accuracy))"
   ]
  },
  {
   "cell_type": "code",
   "execution_count": 26,
   "id": "9988afd6",
   "metadata": {},
   "outputs": [
    {
     "name": "stdout",
     "output_type": "stream",
     "text": [
      "Using SKLEARN\n"
     ]
    },
    {
     "data": {
      "image/png": "[encoded data removed]",
      "text/plain": [
       "<Figure size 432x288 with 1 Axes>"
      ]
     },
     "metadata": {
      "needs_background": "light"
     },
     "output_type": "display_data"
    },
    {
     "name": "stdout",
     "output_type": "stream",
     "text": [
      "max acc at k=7 acc of 1.0\n"
     ]
    }
   ],
   "source": [
    "print(\"Using SKLEARN\")\n",
    "lix = []\n",
    "liy = []\n",
    "index=0\n",
    "acc=0\n",
    "from sklearn.neighbors import KNeighborsClassifier\n",
    "for k in range(1, 50):\n",
    "    neigh = KNeighborsClassifier(n_neighbors=k)\n",
    "    neigh.fit(X_train, y_train)\n",
    "    liy.append(neigh.score(X_val, y_val))\n",
    "    if liy[k-1]>acc:\n",
    "        acc=liy[k-1]\n",
    "        index=k-1\n",
    "    lix.append(k)\n",
    "\n",
    "plt.plot(lix, liy)\n",
    "plt.show()\n",
    "print(\"max acc at k=\"+str(index+1)+\" acc of \"+str(acc))"
   ]
  },
  {
   "cell_type": "code",
   "execution_count": 27,
   "id": "ae2674b9",
   "metadata": {},
   "outputs": [
    {
     "name": "stdout",
     "output_type": "stream",
     "text": [
      "Test Accuracy: 0.9090909090909091\n",
      "Using our own k-NN\n",
      "With k = 7 Got 10 / 11 correct => accuracy: 0.909091\n"
     ]
    }
   ],
   "source": [
    "neigh = KNeighborsClassifier(n_neighbors=7)\n",
    "neigh.fit(X_train, y_train)\n",
    "print(\"Test Accuracy: \"+str(neigh.score(X_test, y_test)))\n",
    "\n",
    "print(\"Using our own k-NN\")\n",
    "classifier = KNearestNeighbor()\n",
    "classifier.train(X_train, y_train)\n",
    "dists = classifier.compute_distances_no_loops(X_test)\n",
    "y_test_pred = classifier.predict_labels(dists, k=7)\n",
    "num_correct = np.sum(y_test_pred == y_test)\n",
    "accuracy = float(num_correct) / num_test\n",
    "print('With k = 7 Got %d / %d correct => accuracy: %f' % (num_correct, num_test, accuracy))"
   ]
  },
  {
   "cell_type": "code",
   "execution_count": 28,
   "id": "d3130e75",
   "metadata": {},
   "outputs": [
    {
     "name": "stdout",
     "output_type": "stream",
     "text": [
      "[1. 0. 0. 0. 1. 0. 0. 1. 0. 0. 0.]\n"
     ]
    }
   ],
   "source": [
    "print(y_test_pred)"
   ]
  },
  {
   "cell_type": "code",
   "execution_count": 29,
   "id": "87ce9564",
   "metadata": {},
   "outputs": [
    {
     "name": "stdout",
     "output_type": "stream",
     "text": [
      "[1. 0. 0. 0. 1. 1. 0. 1. 0. 0. 0.]\n"
     ]
    }
   ],
   "source": [
    "print(y_test)"
   ]
  },
  {
   "cell_type": "code",
   "execution_count": 30,
   "id": "a0afc920",
   "metadata": {},
   "outputs": [
    {
     "name": "stdout",
     "output_type": "stream",
     "text": [
      "[PosixPath('../data/fertile-land/DJI_0494.JPG'), PosixPath('../data/unfertile-land/DJI_0577.JPG'), PosixPath('../data/unfertile-land/DJI_0584.JPG'), PosixPath('../data/unfertile-land/DJI_0552.JPG'), PosixPath('../data/fertile-land/DJI_0495.JPG'), PosixPath('../data/fertile-land/DJI_0516.JPG'), PosixPath('../data/unfertile-land/DJI_0588.JPG'), PosixPath('../data/fertile-land/DJI_0534.JPG'), PosixPath('../data/unfertile-land/DJI_0547.JPG'), PosixPath('../data/unfertile-land/DJI_0551.JPG'), PosixPath('../data/unfertile-land/DJI_0569.JPG')]\n"
     ]
    }
   ],
   "source": [
    "print(files_test)"
   ]
  },
  {
   "cell_type": "code",
   "execution_count": 31,
   "id": "97aa9196",
   "metadata": {},
   "outputs": [
    {
     "name": "stdout",
     "output_type": "stream",
     "text": [
      "../data/fertile-land/DJI_0516.JPG\n"
     ]
    }
   ],
   "source": [
    "print(files_test[5])"
   ]
  },
  {
   "cell_type": "code",
   "execution_count": 32,
   "id": "e2f7ac69",
   "metadata": {},
   "outputs": [],
   "source": [
    "import pickle\n",
    "\n",
    "# Its important to use binary mode \n",
    "knnPickle = open('knnpickle_file', 'wb') \n",
    "      \n",
    "# source, destination \n",
    "pickle.dump(classifier, knnPickle)  \n",
    "\n",
    "# close the file\n",
    "knnPickle.close()"
   ]
  },
  {
   "cell_type": "code",
   "execution_count": 33,
   "id": "1e364a79",
   "metadata": {},
   "outputs": [],
   "source": [
    "# load the model from disk\n",
    "loaded_model = pickle.load(open('knnpickle_file', 'rb'))\n",
    "result = loaded_model.predict(X_test) "
   ]
  },
  {
   "cell_type": "code",
   "execution_count": 34,
   "id": "d66d3244",
   "metadata": {},
   "outputs": [
    {
     "data": {
      "text/plain": [
       "array([1., 0., 0., 0., 1., 1., 0., 1., 0., 0., 0.])"
      ]
     },
     "execution_count": 34,
     "metadata": {},
     "output_type": "execute_result"
    }
   ],
   "source": [
    "result"
   ]
  },
  {
   "cell_type": "code",
   "execution_count": 35,
   "id": "03e6ec0b",
   "metadata": {},
   "outputs": [
    {
     "data": {
      "text/plain": [
       "(11, 7500)"
      ]
     },
     "execution_count": 35,
     "metadata": {},
     "output_type": "execute_result"
    }
   ],
   "source": [
    "X_test.shape"
   ]
  },
  {
   "cell_type": "code",
   "execution_count": null,
   "id": "c18ff6d0",
   "metadata": {},
   "outputs": [],
   "source": []
  }
 ],
 "metadata": {
  "kernelspec": {
   "display_name": "Python 3",
   "language": "python",
   "name": "python3"
  },
  "language_info": {
   "codemirror_mode": {
    "name": "ipython",
    "version": 3
   },
   "file_extension": ".py",
   "mimetype": "text/x-python",
   "name": "python",
   "nbconvert_exporter": "python",
   "pygments_lexer": "ipython3",
   "version": "3.8.8"
  }
 },
 "nbformat": 4,
 "nbformat_minor": 5
}
